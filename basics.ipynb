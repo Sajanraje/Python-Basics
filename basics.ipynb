{
 "cells": [
  {
   "cell_type": "code",
   "execution_count": 1,
   "id": "b7a557c2-b1d0-4023-b734-28ce087c7cf2",
   "metadata": {},
   "outputs": [
    {
     "name": "stdout",
     "output_type": "stream",
     "text": [
      "a = 2 and b = 3.142\n",
      "5.1419999999999995\n",
      "6.284\n",
      "-1.142\n",
      "0.6365372374283896\n",
      "9.872164\n",
      "2.0\n",
      "0.8580000000000001\n"
     ]
    }
   ],
   "source": [
    "# Assign Variable\n",
    "\n",
    "a = 2\n",
    "b = 3.142\n",
    "\n",
    "print(\"a =\", a, \"and b =\" , b)\n",
    "print(a + b)      # addition\n",
    "print(a * b)      # multiplication\n",
    "print(a - b)      # subtraction\n",
    "print(a / b)      # division\n",
    "print(b ** a)     # exponentiation\n",
    "print(a % b)      # modulus - returns the remainder\n",
    "print(2 * a % b)  # modulus - returns the remainder"
   ]
  },
  {
   "cell_type": "code",
   "execution_count": 2,
   "id": "13c1460d-c896-48f6-86a0-70525c7b2ebc",
   "metadata": {},
   "outputs": [
    {
     "name": "stdout",
     "output_type": "stream",
     "text": [
      "<class 'int'>\n",
      "<class 'float'>\n",
      "<class 'str'>\n"
     ]
    }
   ],
   "source": [
    "print(type(a))\n",
    "print(type(b))\n",
    "s = \"Hello World\"\n",
    "print(type(s))"
   ]
  },
  {
   "cell_type": "code",
   "execution_count": 3,
   "id": "8ad44fcb-6849-4a72-a86e-94bf725ad8a1",
   "metadata": {},
   "outputs": [
    {
     "name": "stdout",
     "output_type": "stream",
     "text": [
      "a = 2 and b = 3.142\n",
      "8.283999999999999\n",
      "8.283999999999999\n",
      "10.283999999999999\n"
     ]
    }
   ],
   "source": [
    "print(\"a =\", a, \"and b =\" , b)\n",
    "print(a + 2*b)    # add a to two times b\n",
    "print(a + (2*b))  # same thing but explicit about order of evaluation\n",
    "print((a + b)*2)  # add a and b and then multiply by two"
   ]
  },
  {
   "cell_type": "code",
   "execution_count": 4,
   "id": "9e1d8c2a-ba4b-4b05-a194-b1935f1fbf26",
   "metadata": {},
   "outputs": [
    {
     "data": {
      "text/plain": [
       "19"
      ]
     },
     "execution_count": 4,
     "metadata": {},
     "output_type": "execute_result"
    }
   ],
   "source": [
    "(5+7*2)"
   ]
  },
  {
   "cell_type": "code",
   "execution_count": 5,
   "id": "7619b6b4-dd80-417c-aa29-6ba72c9aba9a",
   "metadata": {},
   "outputs": [
    {
     "data": {
      "text/plain": [
       "23.0"
      ]
     },
     "execution_count": 5,
     "metadata": {},
     "output_type": "execute_result"
    }
   ],
   "source": [
    "5+10*6/4+3"
   ]
  },
  {
   "cell_type": "code",
   "execution_count": 6,
   "id": "397546e7-317c-47e5-9917-1c9931f3a938",
   "metadata": {},
   "outputs": [
    {
     "ename": "SyntaxError",
     "evalue": "invalid decimal literal (1132350671.py, line 3)",
     "output_type": "error",
     "traceback": [
      "\u001b[1;36m  Cell \u001b[1;32mIn[6], line 3\u001b[1;36m\u001b[0m\n\u001b[1;33m    (a+4b)\u001b[0m\n\u001b[1;37m       ^\u001b[0m\n\u001b[1;31mSyntaxError\u001b[0m\u001b[1;31m:\u001b[0m invalid decimal literal\n"
     ]
    }
   ],
   "source": [
    "a = 7.5\n",
    "b = 4.1\n",
    "(a+4b)"
   ]
  },
  {
   "cell_type": "code",
   "execution_count": 7,
   "id": "c4fadaf9-dc21-4d56-a4a3-8d63a69e75fd",
   "metadata": {},
   "outputs": [
    {
     "data": {
      "text/plain": [
       "11.6"
      ]
     },
     "execution_count": 7,
     "metadata": {},
     "output_type": "execute_result"
    }
   ],
   "source": [
    "a = 7.5\n",
    "b = 4.1\n",
    "(a+b)"
   ]
  },
  {
   "cell_type": "code",
   "execution_count": 8,
   "id": "4289e3f6-83f3-4fe2-ac27-c8f54cc3bcb0",
   "metadata": {},
   "outputs": [
    {
     "name": "stdout",
     "output_type": "stream",
     "text": [
      "Help on built-in function print in module builtins:\n",
      "\n",
      "print(*args, sep=' ', end='\\n', file=None, flush=False)\n",
      "    Prints the values to a stream, or to sys.stdout by default.\n",
      "\n",
      "    sep\n",
      "      string inserted between values, default a space.\n",
      "    end\n",
      "      string appended after the last value, default a newline.\n",
      "    file\n",
      "      a file-like object (stream); defaults to the current sys.stdout.\n",
      "    flush\n",
      "      whether to forcibly flush the stream.\n",
      "\n"
     ]
    }
   ],
   "source": [
    "help(print)"
   ]
  },
  {
   "cell_type": "code",
   "execution_count": 9,
   "id": "0b867853-7de9-4d96-8724-447efaa77871",
   "metadata": {},
   "outputs": [
    {
     "name": "stdout",
     "output_type": "stream",
     "text": [
      "<class 'str'>\n",
      "<class 'float'>\n"
     ]
    }
   ],
   "source": [
    "a = \"3.142\"\n",
    "print(type(a))\n",
    "a = float(a)\n",
    "print(type(a))"
   ]
  },
  {
   "cell_type": "code",
   "execution_count": 10,
   "id": "cee889f2-ee3d-493c-a335-0e808d8caa0d",
   "metadata": {},
   "outputs": [
    {
     "name": "stdout",
     "output_type": "stream",
     "text": [
      "<class 'float'>\n",
      "<class 'int'>\n",
      "<class 'float'>\n",
      "<class 'int'>\n",
      "<class 'int'>\n",
      "3\n"
     ]
    }
   ],
   "source": [
    "a = 3.142\n",
    "print(type(a))\n",
    "a = 3\n",
    "print(type(a))\n",
    "a = a*1.0\n",
    "print(type(a))\n",
    "a = int(a)\n",
    "print(type(a))\n",
    "a = 3.142\n",
    "a = int(a)\n",
    "print(type(a))\n",
    "print(a)"
   ]
  },
  {
   "cell_type": "code",
   "execution_count": 11,
   "id": "579d2a55-8517-4c65-9059-fd60c1f84ca6",
   "metadata": {},
   "outputs": [
    {
     "name": "stdout",
     "output_type": "stream",
     "text": [
      "Hello World\n",
      "HelloSajan How are you?\n",
      "Hello this is Sajan's code\n"
     ]
    }
   ],
   "source": [
    "mystring = \"Hello World\"\n",
    "print(mystring)\n",
    "\n",
    "name = \"Sajan\"\n",
    "mystring = 'Hello' + name + ' How are you?'\n",
    "print (mystring)\n",
    "\n",
    "name = \"Sajan\"\n",
    "mystring = 'Hello this is ' + name + \"'s code\"\n",
    "print(mystring)"
   ]
  },
  {
   "cell_type": "code",
   "execution_count": 12,
   "id": "96f2a8be-cf97-4487-a57b-5717c8d460a5",
   "metadata": {},
   "outputs": [
    {
     "name": "stdout",
     "output_type": "stream",
     "text": [
      "Hello World\n",
      "Hello Sajan How are you?\n",
      "Hello this is Sajan's code\n"
     ]
    }
   ],
   "source": [
    "mystring = \"Hello World\"\n",
    "print(mystring)\n",
    "\n",
    "name = \"Sajan\"\n",
    "mystring = 'Hello ' + name + ' How are you?'\n",
    "print (mystring)\n",
    "\n",
    "name = \"Sajan\"\n",
    "mystring = 'Hello this is ' + name + \"'s code\"\n",
    "print(mystring)"
   ]
  },
  {
   "cell_type": "code",
   "execution_count": 13,
   "id": "871f0cbb-e467-49d8-a13e-ed42a55f7a6c",
   "metadata": {},
   "outputs": [
    {
     "name": "stdout",
     "output_type": "stream",
     "text": [
      "11\n"
     ]
    }
   ],
   "source": [
    "mystring = \"Hello World\"\n",
    "print(len(mystring))"
   ]
  },
  {
   "cell_type": "code",
   "execution_count": 14,
   "id": "f212c15b-9ac3-45b5-9e8c-d5611878cffa",
   "metadata": {},
   "outputs": [
    {
     "name": "stdout",
     "output_type": "stream",
     "text": [
      "['__add__', '__class__', '__contains__', '__delattr__', '__dir__', '__doc__', '__eq__', '__format__', '__ge__', '__getattribute__', '__getitem__', '__getnewargs__', '__getstate__', '__gt__', '__hash__', '__init__', '__init_subclass__', '__iter__', '__le__', '__len__', '__lt__', '__mod__', '__mul__', '__ne__', '__new__', '__reduce__', '__reduce_ex__', '__repr__', '__rmod__', '__rmul__', '__setattr__', '__sizeof__', '__str__', '__subclasshook__', 'capitalize', 'casefold', 'center', 'count', 'encode', 'endswith', 'expandtabs', 'find', 'format', 'format_map', 'index', 'isalnum', 'isalpha', 'isascii', 'isdecimal', 'isdigit', 'isidentifier', 'islower', 'isnumeric', 'isprintable', 'isspace', 'istitle', 'isupper', 'join', 'ljust', 'lower', 'lstrip', 'maketrans', 'partition', 'removeprefix', 'removesuffix', 'replace', 'rfind', 'rindex', 'rjust', 'rpartition', 'rsplit', 'rstrip', 'split', 'splitlines', 'startswith', 'strip', 'swapcase', 'title', 'translate', 'upper', 'zfill']\n"
     ]
    }
   ],
   "source": [
    "print(dir(mystring))"
   ]
  },
  {
   "cell_type": "markdown",
   "id": "dfa10872-70f6-44a8-a3b7-270060186d9e",
   "metadata": {},
   "source": [
    "# Python code"
   ]
  },
  {
   "cell_type": "markdown",
   "id": "97cf9749-fdfa-4051-8795-ca61eba4070f",
   "metadata": {},
   "source": [
    "## Python sub"
   ]
  },
  {
   "cell_type": "markdown",
   "id": "4dd03541-5697-4550-ad2d-5f6cc4ea47d2",
   "metadata": {},
   "source": [
    "* hi"
   ]
  },
  {
   "cell_type": "markdown",
   "id": "4dff4367-6ff6-4d9b-9abb-623b272cb48b",
   "metadata": {},
   "source": [
    "*Hello World*"
   ]
  },
  {
   "cell_type": "code",
   "execution_count": 16,
   "id": "7089b796-13dd-4afa-94b7-d762ef4226fa",
   "metadata": {},
   "outputs": [
    {
     "name": "stdout",
     "output_type": "stream",
     "text": [
      "True\n",
      "0\n",
      "THE QUICK BROWN FOX\n",
      "The quick brown fox\n"
     ]
    }
   ],
   "source": [
    "myString = \"The quick brown fox\"\n",
    "\n",
    "print(myString.startswith(\"The\"))\n",
    "print(myString.find(\"The\"))        # notice that string positions start with 0 like all indexing in Python\n",
    "print(myString.upper())            # The contents of myString is not changed, if you wanted an uppercase version\n",
    "print(myString) "
   ]
  },
  {
   "cell_type": "code",
   "execution_count": 17,
   "id": "ca93c8cd-444f-457d-9700-cdc93b6275a8",
   "metadata": {},
   "outputs": [
    {
     "name": "stdout",
     "output_type": "stream",
     "text": [
      "False\n"
     ]
    },
    {
     "ename": "NameError",
     "evalue": "name 'Print' is not defined",
     "output_type": "error",
     "traceback": [
      "\u001b[1;31m---------------------------------------------------------------------------\u001b[0m",
      "\u001b[1;31mNameError\u001b[0m                                 Traceback (most recent call last)",
      "Cell \u001b[1;32mIn[17], line 4\u001b[0m\n\u001b[0;32m      1\u001b[0m mystring \u001b[38;5;241m=\u001b[39m \u001b[38;5;124m\"\u001b[39m\u001b[38;5;124mThis is Python\u001b[39m\u001b[38;5;124m\"\u001b[39m\n\u001b[0;32m      3\u001b[0m \u001b[38;5;28mprint\u001b[39m(myString\u001b[38;5;241m.\u001b[39mstartswith(\u001b[38;5;124m\"\u001b[39m\u001b[38;5;124mThis\u001b[39m\u001b[38;5;124m\"\u001b[39m))\n\u001b[1;32m----> 4\u001b[0m Print(myString\u001b[38;5;241m.\u001b[39mfind(\u001b[38;5;124m\"\u001b[39m\u001b[38;5;124mThe\u001b[39m\u001b[38;5;124m\"\u001b[39m))\n\u001b[0;32m      5\u001b[0m Print(myString\u001b[38;5;241m.\u001b[39mupper())\n\u001b[0;32m      6\u001b[0m \u001b[38;5;28mprint\u001b[39m(myString)\n",
      "\u001b[1;31mNameError\u001b[0m: name 'Print' is not defined"
     ]
    }
   ],
   "source": [
    "mystring = \"This is Python\"\n",
    "\n",
    "print(myString.startswith(\"This\"))\n",
    "Print(myString.find(\"The\"))\n",
    "Print(myString.upper())\n",
    "print(myString)"
   ]
  },
  {
   "cell_type": "code",
   "execution_count": 18,
   "id": "e2996fce-cb7d-446a-9bc2-143927f580b2",
   "metadata": {},
   "outputs": [
    {
     "name": "stdout",
     "output_type": "stream",
     "text": [
      "False\n",
      "0\n",
      "THE QUICK BROWN FOX\n",
      "The quick brown fox\n"
     ]
    }
   ],
   "source": [
    "mystring = \"This is Python\"\n",
    "\n",
    "print(myString.startswith(\"This\"))\n",
    "print(myString.find(\"The\"))\n",
    "print(myString.upper())\n",
    "print(myString)"
   ]
  },
  {
   "cell_type": "code",
   "execution_count": 19,
   "id": "b723342e-2052-4a48-8024-5f9d88ea716b",
   "metadata": {},
   "outputs": [
    {
     "name": "stdout",
     "output_type": "stream",
     "text": [
      "True\n",
      "-1\n",
      "THIS IS PYTHON\n",
      "This is Python\n"
     ]
    }
   ],
   "source": [
    "myString = \"This is Python\"\n",
    "\n",
    "print(myString.startswith(\"This\"))\n",
    "print(myString.find(\"The\"))\n",
    "print(myString.upper())\n",
    "print(myString)"
   ]
  },
  {
   "cell_type": "code",
   "execution_count": 20,
   "id": "2f4e2779-153d-4396-aaba-a8db262b7a5e",
   "metadata": {},
   "outputs": [
    {
     "name": "stdout",
     "output_type": "stream",
     "text": [
      "True\n",
      "8\n",
      "THIS IS PYTHON\n",
      "This is Python\n"
     ]
    }
   ],
   "source": [
    "myString = \"This is Python\"\n",
    "\n",
    "print(myString.startswith(\"This\"))\n",
    "print(myString.find(\"Python\"))\n",
    "print(myString.upper())\n",
    "print(myString)"
   ]
  },
  {
   "cell_type": "code",
   "execution_count": 21,
   "id": "ca3682b3-31ea-41f7-981f-be4f3367b448",
   "metadata": {},
   "outputs": [
    {
     "name": "stdout",
     "output_type": "stream",
     "text": [
      "True\n",
      "0\n",
      "THIS IS PYTHON\n",
      "This is Python\n"
     ]
    }
   ],
   "source": [
    "myString = \"This is Python\"\n",
    "\n",
    "print(myString.startswith(\"This\"))\n",
    "print(myString.find(\"This\"))\n",
    "print(myString.upper())\n",
    "print(myString)"
   ]
  },
  {
   "cell_type": "code",
   "execution_count": 22,
   "id": "f963c23e-86e5-4768-8229-5b1daa1d0b2f",
   "metadata": {},
   "outputs": [
    {
     "name": "stdout",
     "output_type": "stream",
     "text": [
      "False\n"
     ]
    }
   ],
   "source": [
    "print(myString.isalpha())"
   ]
  },
  {
   "cell_type": "code",
   "execution_count": 23,
   "id": "763190a2-831d-4ecc-9498-0e8ac6210576",
   "metadata": {},
   "outputs": [
    {
     "name": "stdout",
     "output_type": "stream",
     "text": [
      "True\n"
     ]
    }
   ],
   "source": [
    "print(myString.replace(\" \",\"\").isalpha())"
   ]
  },
  {
   "cell_type": "code",
   "execution_count": 24,
   "id": "01ec4e26-26ee-4bcd-82e5-345c8dcd05b6",
   "metadata": {},
   "outputs": [
    {
     "name": "stdout",
     "output_type": "stream",
     "text": [
      "T\n",
      "o\n"
     ]
    },
    {
     "ename": "IndexError",
     "evalue": "string index out of range",
     "output_type": "error",
     "traceback": [
      "\u001b[1;31m---------------------------------------------------------------------------\u001b[0m",
      "\u001b[1;31mIndexError\u001b[0m                                Traceback (most recent call last)",
      "Cell \u001b[1;32mIn[24], line 3\u001b[0m\n\u001b[0;32m      1\u001b[0m \u001b[38;5;28mprint\u001b[39m(myString[\u001b[38;5;241m0\u001b[39m])\n\u001b[0;32m      2\u001b[0m \u001b[38;5;28mprint\u001b[39m(myString[\u001b[38;5;241m12\u001b[39m])\n\u001b[1;32m----> 3\u001b[0m \u001b[38;5;28mprint\u001b[39m(myString[\u001b[38;5;241m18\u001b[39m])\n\u001b[0;32m      5\u001b[0m \u001b[38;5;28mprint\u001b[39m(myString[\u001b[38;5;241m0\u001b[39m:\u001b[38;5;241m3\u001b[39m])\n\u001b[0;32m      6\u001b[0m \u001b[38;5;28mprint\u001b[39m(myString[\u001b[38;5;241m0\u001b[39m:])        \u001b[38;5;66;03m# from index 0 to the end\u001b[39;00m\n",
      "\u001b[1;31mIndexError\u001b[0m: string index out of range"
     ]
    }
   ],
   "source": [
    "print(myString[0])\n",
    "print(myString[12])\n",
    "print(myString[18])\n",
    "\n",
    "print(myString[0:3])\n",
    "print(myString[0:])        # from index 0 to the end\n",
    "print(myString[:9])        # from the beginning to one before index 9\n",
    "print(myString[4:9])"
   ]
  },
  {
   "cell_type": "code",
   "execution_count": 25,
   "id": "59871b82-645a-44d9-b315-4b0dac57332c",
   "metadata": {},
   "outputs": [
    {
     "name": "stdout",
     "output_type": "stream",
     "text": [
      "T\n",
      "o\n"
     ]
    },
    {
     "ename": "IndexError",
     "evalue": "string index out of range",
     "output_type": "error",
     "traceback": [
      "\u001b[1;31m---------------------------------------------------------------------------\u001b[0m",
      "\u001b[1;31mIndexError\u001b[0m                                Traceback (most recent call last)",
      "Cell \u001b[1;32mIn[25], line 3\u001b[0m\n\u001b[0;32m      1\u001b[0m \u001b[38;5;28mprint\u001b[39m(myString[\u001b[38;5;241m0\u001b[39m])\n\u001b[0;32m      2\u001b[0m \u001b[38;5;28mprint\u001b[39m(myString[\u001b[38;5;241m12\u001b[39m])\n\u001b[1;32m----> 3\u001b[0m \u001b[38;5;28mprint\u001b[39m(myString[\u001b[38;5;241m18\u001b[39m])\n\u001b[0;32m      5\u001b[0m \u001b[38;5;28mprint\u001b[39m(myString[\u001b[38;5;241m0\u001b[39m:\u001b[38;5;241m3\u001b[39m])\n\u001b[0;32m      6\u001b[0m \u001b[38;5;28mprint\u001b[39m(myString[\u001b[38;5;241m0\u001b[39m:])\n",
      "\u001b[1;31mIndexError\u001b[0m: string index out of range"
     ]
    }
   ],
   "source": [
    "print(myString[0])\n",
    "print(myString[12])\n",
    "print(myString[18])\n",
    "\n",
    "print(myString[0:3])\n",
    "print(myString[0:])\n",
    "print(myString[:9])\n",
    "print(myString[4:9])"
   ]
  },
  {
   "cell_type": "code",
   "execution_count": 26,
   "id": "7a2684c8-5320-4c7d-96d3-021e765e2771",
   "metadata": {},
   "outputs": [
    {
     "name": "stdout",
     "output_type": "stream",
     "text": [
      "T\n",
      "o\n",
      "x\n",
      "The\n",
      "The quick brown fox\n",
      "The quick\n",
      "quick\n"
     ]
    }
   ],
   "source": [
    "myString = \"The quick brown fox\"\n",
    "print(myString[0])\n",
    "print(myString[12])\n",
    "print(myString[18])\n",
    "\n",
    "print(myString[0:3])\n",
    "print(myString[0:])\n",
    "print(myString[:9])\n",
    "print(myString[4:9])"
   ]
  },
  {
   "cell_type": "code",
   "execution_count": 27,
   "id": "ddb39f39-f2a0-43b2-b21a-2441b49a2de9",
   "metadata": {},
   "outputs": [
    {
     "name": "stdout",
     "output_type": "stream",
     "text": [
      "T\n",
      "o\n",
      "b\n",
      "This\n",
      "This is Python number two\n",
      "This is P\n",
      " Pytho\n"
     ]
    }
   ],
   "source": [
    "myString = \"This is Python number two\"\n",
    "print(myString[0])\n",
    "print(myString[12])\n",
    "print(myString[18])\n",
    "\n",
    "print(myString[0:4])\n",
    "print(myString[0:])\n",
    "print(myString[:9])\n",
    "print(myString[7:13])"
   ]
  },
  {
   "cell_type": "code",
   "execution_count": 28,
   "id": "47412c8a-248f-474d-8e3e-7a7a1f0636b6",
   "metadata": {},
   "outputs": [
    {
     "name": "stdout",
     "output_type": "stream",
     "text": [
      "T\n",
      "o\n",
      "b\n",
      "This\n",
      "This is Python number two\n",
      "This is Python\n",
      " Python\n"
     ]
    }
   ],
   "source": [
    "myString = \"This is Python number two\"\n",
    "print(myString[0])\n",
    "print(myString[12])\n",
    "print(myString[18])\n",
    "\n",
    "print(myString[0:4])\n",
    "print(myString[0:])\n",
    "print(myString[:14])\n",
    "print(myString[7:14])"
   ]
  },
  {
   "cell_type": "code",
   "execution_count": 29,
   "id": "29638c0c-e6ed-416e-8050-c91f3d003600",
   "metadata": {},
   "outputs": [
    {
     "name": "stdout",
     "output_type": "stream",
     "text": [
      "T\n",
      "o\n",
      "b\n",
      "This\n",
      "This is Python number two\n",
      "This is Python\n",
      "s Python\n"
     ]
    }
   ],
   "source": [
    "myString = \"This is Python number two\"\n",
    "print(myString[0])\n",
    "print(myString[12])\n",
    "print(myString[18])\n",
    "\n",
    "print(myString[0:4])\n",
    "print(myString[0:])\n",
    "print(myString[:14])\n",
    "print(myString[6:14])"
   ]
  },
  {
   "cell_type": "code",
   "execution_count": 30,
   "id": "08eb201b-9a9d-4e48-90e4-23da24d1aff3",
   "metadata": {},
   "outputs": [
    {
     "name": "stdout",
     "output_type": "stream",
     "text": [
      "T\n",
      "o\n",
      "b\n",
      "This\n",
      "This is Python number two\n",
      "This is Python\n",
      "Python\n"
     ]
    }
   ],
   "source": [
    "myString = \"This is Python number two\"\n",
    "print(myString[0])\n",
    "print(myString[12])\n",
    "print(myString[18])\n",
    "\n",
    "print(myString[0:4])\n",
    "print(myString[0:])\n",
    "print(myString[:14])\n",
    "print(myString[8:14])"
   ]
  },
  {
   "cell_type": "code",
   "execution_count": 31,
   "id": "66fee3c7-674f-48a4-9c2a-16bbff4b816b",
   "metadata": {},
   "outputs": [
    {
     "name": "stdout",
     "output_type": "stream",
     "text": [
      "False\n",
      "True\n",
      "True\n",
      "True\n"
     ]
    },
    {
     "name": "stderr",
     "output_type": "stream",
     "text": [
      "<>:2: SyntaxWarning: \"is\" with 'str' literal. Did you mean \"==\"?\n",
      "C:\\Users\\sajan\\AppData\\Local\\Temp\\ipykernel_34788\\3558465951.py:2: SyntaxWarning: \"is\" with 'str' literal. Did you mean \"==\"?\n",
      "  print('python' is 'python')\n"
     ]
    }
   ],
   "source": [
    "print('Python' == 'PYTHON')\n",
    "print('python' is 'python')\n",
    "print(5 != 2*3)\n",
    "print(5<9)"
   ]
  },
  {
   "cell_type": "code",
   "execution_count": 32,
   "id": "e23b8658-6b4d-42dd-9d96-fcd005578b7b",
   "metadata": {},
   "outputs": [
    {
     "name": "stdout",
     "output_type": "stream",
     "text": [
      "False\n",
      "True\n",
      "True\n",
      "True\n",
      "False\n"
     ]
    }
   ],
   "source": [
    "print('hello' == 'HELLO')\n",
    "print('hello' is 'hello')\n",
    "print(3 != 77)\n",
    "print(1 < 2)\n",
    "print('four' > 'three')"
   ]
  },
  {
   "cell_type": "code",
   "execution_count": 33,
   "id": "085ce33f-9845-4fa1-8b04-078b3b7280c1",
   "metadata": {},
   "outputs": [
    {
     "name": "stdout",
     "output_type": "stream",
     "text": [
      "False\n",
      "True\n",
      "True\n",
      "True\n",
      "False\n"
     ]
    }
   ],
   "source": [
    "print('Python' == 'PYTHON')\n",
    "print('python' is 'python')\n",
    "print(5 != 2*3)\n",
    "print(5<9)\n",
    "print('seven' > 'two')"
   ]
  },
  {
   "cell_type": "code",
   "execution_count": 34,
   "id": "c0925d0b-ec9a-4988-8e67-eb9daa1c4db2",
   "metadata": {},
   "outputs": [
    {
     "name": "stdout",
     "output_type": "stream",
     "text": [
      "[6, 54, 89]\n",
      "<class 'list'>\n",
      "[3.142, 2.71828, 9.8]\n",
      "<class 'list'>\n",
      "['Hello', 'to', 'Peter']\n",
      "['Hello', 'to', 'Peter']\n",
      "<class 'list'>\n",
      "[6, 5.4, 'numbers', True]\n",
      "<class 'list'>\n"
     ]
    }
   ],
   "source": [
    "list1 = [6, 54, 89 ]\n",
    "print(list1)\n",
    "print(type(list1))\n",
    "\n",
    "list2 = [3.142, 2.71828, 9.8 ]\n",
    "print(list2)\n",
    "print(type(list2))\n",
    "\n",
    "myname = \"Peter\"\n",
    "list3 = [\"Hello\", 'to', myname ]\n",
    "print(list3)\n",
    "myname = \"Fred\"\n",
    "print(list3)\n",
    "print(type(list3))\n",
    "\n",
    "list4 = [6, 5.4, \"numbers\", True ]\n",
    "print(list4)\n",
    "print(type(list4))"
   ]
  },
  {
   "cell_type": "code",
   "execution_count": 35,
   "id": "9217c900-2125-4960-9515-01205d1e60d3",
   "metadata": {},
   "outputs": [
    {
     "name": "stdout",
     "output_type": "stream",
     "text": [
      "[0, 1, 2, 3, 4]\n"
     ]
    }
   ],
   "source": [
    "list5 = list(range(5))\n",
    "print(list5)"
   ]
  },
  {
   "cell_type": "code",
   "execution_count": 36,
   "id": "673c270e-f426-40da-a78d-e53b90278e31",
   "metadata": {},
   "outputs": [
    {
     "name": "stdout",
     "output_type": "stream",
     "text": [
      "[]\n"
     ]
    }
   ],
   "source": [
    "list7 = list(range(2, 11, -2))\n",
    "print(list7)"
   ]
  },
  {
   "cell_type": "code",
   "execution_count": 37,
   "id": "ed7d8514-3703-42ae-991d-59d8964d62dd",
   "metadata": {},
   "outputs": [
    {
     "name": "stdout",
     "output_type": "stream",
     "text": [
      "[11, 9, 7, 5, 3]\n"
     ]
    }
   ],
   "source": [
    "list7 = list(range(11, 2, -2))\n",
    "print(list7)"
   ]
  },
  {
   "cell_type": "code",
   "execution_count": null,
   "id": "b56cee89-b472-4a89-8a82-01052c7ac0a3",
   "metadata": {},
   "outputs": [],
   "source": []
  }
 ],
 "metadata": {
  "kernelspec": {
   "display_name": "Python 3 (ipykernel)",
   "language": "python",
   "name": "python3"
  },
  "language_info": {
   "codemirror_mode": {
    "name": "ipython",
    "version": 3
   },
   "file_extension": ".py",
   "mimetype": "text/x-python",
   "name": "python",
   "nbconvert_exporter": "python",
   "pygments_lexer": "ipython3",
   "version": "3.13.5"
  }
 },
 "nbformat": 4,
 "nbformat_minor": 5
}
